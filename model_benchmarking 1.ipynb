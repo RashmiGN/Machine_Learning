{
  "nbformat": 4,
  "nbformat_minor": 0,
  "metadata": {
    "colab": {
      "provenance": []
    },
    "kernelspec": {
      "name": "python3",
      "display_name": "Python 3"
    },
    "language_info": {
      "name": "python"
    }
  },
  "cells": [
    {
      "cell_type": "code",
      "execution_count": null,
      "metadata": {
        "id": "ztP8nFt149q4"
      },
      "outputs": [],
      "source": []
    },
    {
      "cell_type": "code",
      "source": [
        "!pip install sentence_transformers\n",
        "!pip install mteb\n",
        "!pip install beir\n"
      ],
      "metadata": {
        "id": "aSt112aj5Nr1"
      },
      "execution_count": null,
      "outputs": []
    },
    {
      "cell_type": "code",
      "source": [
        "from google.colab import drive\n",
        "drive.mount('/content/drive')"
      ],
      "metadata": {
        "id": "9dPLglNL5NwF"
      },
      "execution_count": null,
      "outputs": []
    },
    {
      "cell_type": "code",
      "source": [
        "#unpacking moodel files"
      ],
      "metadata": {
        "id": "J5l74g7K5NzW"
      },
      "execution_count": null,
      "outputs": []
    },
    {
      "cell_type": "code",
      "source": [
        "from timeit import Timer\n",
        "t = Timer(\"filepath = '/content/drive/MyDrive/WordEmbedding/bge-base-en-v1.5.zip'; \\\n",
        "         extract_to = '/'; \\\n",
        "         from zipfile import ZipFile; \\\n",
        "         ZipFile(filepath).extractall(path=extract_to)\")\n",
        "t.timeit(1)"
      ],
      "metadata": {
        "id": "9mAZk20E5C0B"
      },
      "execution_count": null,
      "outputs": []
    },
    {
      "cell_type": "code",
      "source": [
        "#Benchmarking using MTEB"
      ],
      "metadata": {
        "id": "QfOkDaf_5C21"
      },
      "execution_count": null,
      "outputs": []
    },
    {
      "cell_type": "code",
      "source": [
        "import benchmark1\n",
        "from sentence_transformers import models, SentenceTransformer\n",
        "from  sentence_transformers import SentenceTransformer\n",
        "from importlib import reload\n",
        "import json"
      ],
      "metadata": {
        "id": "jymgC6675C50"
      },
      "execution_count": null,
      "outputs": []
    },
    {
      "cell_type": "code",
      "source": [
        "#example for using prepared embedder\n",
        "model = SentenceTransformer('/content/bge-base-en-v1.5', device='cuda')\n",
        "result = benchmark1.benchmark_embedder(model)"
      ],
      "metadata": {
        "id": "19KtTISH5C8j"
      },
      "execution_count": null,
      "outputs": []
    },
    {
      "cell_type": "code",
      "source": [
        "\n",
        "r = json.dumps(result, indent=4)\n",
        "loaded_r = json.loads(r)\n",
        "with open(\"result_e5-small-v2.json\", \"w\") as outfile:\n",
        "    json.dump(loaded_r, outfile)"
      ],
      "metadata": {
        "id": "kZqSFe0M5C_d"
      },
      "execution_count": null,
      "outputs": []
    },
    {
      "cell_type": "code",
      "source": [],
      "metadata": {
        "id": "fVJfg-3t5DCC"
      },
      "execution_count": null,
      "outputs": []
    },
    {
      "cell_type": "code",
      "source": [],
      "metadata": {
        "id": "NYEM9j_j5DFA"
      },
      "execution_count": null,
      "outputs": []
    },
    {
      "cell_type": "code",
      "source": [],
      "metadata": {
        "id": "nHt2yFU25DHw"
      },
      "execution_count": null,
      "outputs": []
    },
    {
      "cell_type": "code",
      "source": [],
      "metadata": {
        "id": "ZbB4i7vb5DKn"
      },
      "execution_count": null,
      "outputs": []
    },
    {
      "cell_type": "code",
      "source": [],
      "metadata": {
        "id": "QesLUCel5DNO"
      },
      "execution_count": null,
      "outputs": []
    },
    {
      "cell_type": "code",
      "source": [],
      "metadata": {
        "id": "kt9ZVbb-5DP7"
      },
      "execution_count": null,
      "outputs": []
    },
    {
      "cell_type": "code",
      "source": [],
      "metadata": {
        "id": "_xuwWrz85DSi"
      },
      "execution_count": null,
      "outputs": []
    },
    {
      "cell_type": "code",
      "source": [],
      "metadata": {
        "id": "jjipZTLX5DVB"
      },
      "execution_count": null,
      "outputs": []
    },
    {
      "cell_type": "code",
      "source": [],
      "metadata": {
        "id": "jXbmi8vW5DX4"
      },
      "execution_count": null,
      "outputs": []
    },
    {
      "cell_type": "code",
      "source": [],
      "metadata": {
        "id": "00dmQSaH5Dao"
      },
      "execution_count": null,
      "outputs": []
    },
    {
      "cell_type": "code",
      "source": [],
      "metadata": {
        "id": "_nRQ5hTO5Djk"
      },
      "execution_count": null,
      "outputs": []
    },
    {
      "cell_type": "code",
      "source": [],
      "metadata": {
        "id": "OVcsWHWw5Dkr"
      },
      "execution_count": null,
      "outputs": []
    }
  ]
}