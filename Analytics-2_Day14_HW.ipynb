{
 "cells": [
  {
   "cell_type": "code",
   "execution_count": 1,
   "id": "3e93f67e",
   "metadata": {},
   "outputs": [
    {
     "name": "stdout",
     "output_type": "stream",
     "text": [
      "Requirement already satisfied: transformers in c:\\users\\dell\\anaconda3\\lib\\site-packages (4.24.0)\n",
      "Requirement already satisfied: regex!=2019.12.17 in c:\\users\\dell\\anaconda3\\lib\\site-packages (from transformers) (2022.3.15)\n",
      "Requirement already satisfied: pyyaml>=5.1 in c:\\users\\dell\\anaconda3\\lib\\site-packages (from transformers) (6.0)\n",
      "Requirement already satisfied: tqdm>=4.27 in c:\\users\\dell\\anaconda3\\lib\\site-packages (from transformers) (4.64.0)\n",
      "Requirement already satisfied: filelock in c:\\users\\dell\\anaconda3\\lib\\site-packages (from transformers) (3.6.0)\n",
      "Requirement already satisfied: packaging>=20.0 in c:\\users\\dell\\anaconda3\\lib\\site-packages (from transformers) (21.3)\n",
      "Requirement already satisfied: numpy>=1.17 in c:\\users\\dell\\anaconda3\\lib\\site-packages (from transformers) (1.21.5)\n",
      "Requirement already satisfied: huggingface-hub<1.0,>=0.10.0 in c:\\users\\dell\\anaconda3\\lib\\site-packages (from transformers) (0.15.1)\n",
      "Requirement already satisfied: requests in c:\\users\\dell\\anaconda3\\lib\\site-packages (from transformers) (2.27.1)\n",
      "Requirement already satisfied: tokenizers!=0.11.3,<0.14,>=0.11.1 in c:\\users\\dell\\anaconda3\\lib\\site-packages (from transformers) (0.13.2)\n",
      "Requirement already satisfied: typing-extensions>=3.7.4.3 in c:\\users\\dell\\anaconda3\\lib\\site-packages (from huggingface-hub<1.0,>=0.10.0->transformers) (4.8.0)\n",
      "Requirement already satisfied: fsspec in c:\\users\\dell\\anaconda3\\lib\\site-packages (from huggingface-hub<1.0,>=0.10.0->transformers) (2022.2.0)\n",
      "Requirement already satisfied: pyparsing!=3.0.5,>=2.0.2 in c:\\users\\dell\\anaconda3\\lib\\site-packages (from packaging>=20.0->transformers) (3.0.4)\n",
      "Requirement already satisfied: colorama in c:\\users\\dell\\anaconda3\\lib\\site-packages (from tqdm>=4.27->transformers) (0.4.6)\n",
      "Requirement already satisfied: certifi>=2017.4.17 in c:\\users\\dell\\anaconda3\\lib\\site-packages (from requests->transformers) (2023.7.22)\n",
      "Requirement already satisfied: idna<4,>=2.5 in c:\\users\\dell\\anaconda3\\lib\\site-packages (from requests->transformers) (3.3)\n",
      "Requirement already satisfied: urllib3<1.27,>=1.21.1 in c:\\users\\dell\\anaconda3\\lib\\site-packages (from requests->transformers) (1.26.9)\n",
      "Requirement already satisfied: charset-normalizer~=2.0.0 in c:\\users\\dell\\anaconda3\\lib\\site-packages (from requests->transformers) (2.0.4)\n",
      "Note: you may need to restart the kernel to use updated packages.\n"
     ]
    },
    {
     "name": "stderr",
     "output_type": "stream",
     "text": [
      "WARNING: Ignoring invalid distribution -illow (c:\\users\\dell\\anaconda3\\lib\\site-packages)\n",
      "WARNING: Ignoring invalid distribution -illow (c:\\users\\dell\\anaconda3\\lib\\site-packages)\n",
      "WARNING: Ignoring invalid distribution -illow (c:\\users\\dell\\anaconda3\\lib\\site-packages)\n",
      "WARNING: Ignoring invalid distribution -illow (c:\\users\\dell\\anaconda3\\lib\\site-packages)\n",
      "WARNING: Ignoring invalid distribution -illow (c:\\users\\dell\\anaconda3\\lib\\site-packages)\n",
      "WARNING: Ignoring invalid distribution -illow (c:\\users\\dell\\anaconda3\\lib\\site-packages)\n"
     ]
    }
   ],
   "source": [
    "pip install transformers"
   ]
  },
  {
   "cell_type": "code",
   "execution_count": 6,
   "id": "fb9f99d6",
   "metadata": {},
   "outputs": [],
   "source": [
    "import pandas as pd\n",
    "from transformers import AutoTokenizer, AutoModelForSeq2SeqLM\n",
    "import torch\n",
    "from torch.utils.data import Dataset\n",
    "\n",
    "# Load data\n",
    "file_path = 'test.csv'\n",
    "df = pd.read_csv(file_path)\n",
    "\n",
    "# Initialize tokenizer\n",
    "tokenizer = AutoTokenizer.from_pretrained(\"Falconsai/text_summarization\")\n",
    "\n",
    "# Load the fine-tuned model\n",
    "model = AutoModelForSeq2SeqLM.from_pretrained(\"Falconsai/text_summarization\")\n",
    "\n",
    "# Function to preprocess and tokenize an article\n",
    "def preprocess_and_tokenize(article):\n",
    "    return tokenizer(article, truncation=True, padding='max_length', max_length=512, return_tensors=\"pt\")\n",
    "\n",
    "# Function to generate a summary with specified emotion\n",
    "def generate_summary_with_emotion(article, model, emotion):\n",
    "    prompt = f\"Generate a {emotion} summary of the article: {article}\"\n",
    "    input_ids = tokenizer.encode(prompt, return_tensors=\"pt\", truncation=True, max_length=512, padding='max_length')\n",
    "    summary_ids = model.generate(input_ids, max_length=150, num_beams=4, early_stopping=True)\n",
    "    summary = tokenizer.decode(summary_ids[0], skip_special_tokens=True)\n",
    "    return summary\n",
    "\n",
    "# Function to apply the summarization pipeline with specified emotion to a list of articles\n",
    "def summarization_pipeline_with_emotion(articles, emotion):\n",
    "    tokenized_articles = [preprocess_and_tokenize(article) for article in articles]\n",
    "    summaries = [generate_summary_with_emotion(article, model, emotion) for article in articles]\n",
    "    return summaries\n",
    "\n",
    "\n"
   ]
  },
  {
   "cell_type": "code",
   "execution_count": 7,
   "id": "7ff87e8b",
   "metadata": {},
   "outputs": [
    {
     "name": "stdout",
     "output_type": "stream",
     "text": [
      "Positive Summary for Article 1:\n",
      "New research and conservation work on the 1533 portrait by Hans Holbein the Younger has revealed that the painter made repeated small changes, each time giving Born even more chiseled features.Young Derich Born’s cheekbones were not always sharp enough to peel apples.The dazzling result bears an inscription on the parapet under Born’s arm, presumably composed by Holbein. The painting, newly conserved after work at the J. Paul Getty Museum in Los Angeles, California, was once owned\n",
      "Positive Summary for Article 2:\n",
      "Harry Kane made his high-profile move from Tottenham to Bayern Munich in August and he hasn’t looked back.Kane, the Premier League’s second all-time scorer, also has four goals in the Champions League with Bayern yet to drop points in the group stage.“It is impressive,” Bayern Munich’s sports director Christoph Freund said, per Reuters, after Kane’s double in the team’s 4-2 win against Heidenheim.“He is playing away from the UK for the first time\n"
     ]
    }
   ],
   "source": [
    "# Example usage\n",
    "articles_to_summarize = ['Young Derich Born’s cheekbones were not always sharp enough to peel apples. New research and conservation work on the 1533 portrait by Hans Holbein the Younger has revealed that the painter made repeated small changes, each time giving Born even more chiseled features.Young Derich Born’s cheekbones were not always sharp enough to peel apples. New research and conservation work on the 1533 portrait by Hans Holbein the Younger has revealed that the painter made repeated small changes, each time giving Born even more chiseled features.The dazzling result bears an inscription on the parapet under Born’s arm, presumably composed by Holbein. Lifted from a near-identical tribute to Albrecht Dürer, the translated statement boasts: “If you added a voice, this would be Derich his very self. You would be in doubt whether the painter or his father made him.”The painting, newly conserved after work at the J. Paul Getty Museum in Los Angeles, California, was once owned by Charles I, and bought back by Charles II as he tried to reassemble the Royal Collection scattered under the politician Oliver Cromwell. It will now star in an exhibition at the Queen’s Gallery in Buckingham Palace, opening November 10, which traces the work in England of the German-born Holbein, and his rise to become the favorite artist of the Tudor court.Born was not royal but a German merchant in the Steelyard in London, the Thames-side headquarters of the Hanseatic League — a powerful group of traders, at least seven of whom commissioned portraits from Holbein, with two now surviving in the Royal Collection, according to the exhibition catalog. Born was just 23 when he commissioned his portrait, and was evidently as arrogant as his features. He was expelled from England in 1541 after getting into an unwise dispute with the powerful Duke of Suffolk, and according to the show’s curator, Kate Heard, was still grumbling about it a decade later.','It’s safe to say that Harry Kane is enjoying life in Germany.The England captain made his high-profile move from boyhood club Tottenham to Bayern Munich in August and he hasn’t looked back.After netting a brace against Heidenheim on Saturday, the striker took his tally to 17 league goals this season. No player has scored more after 11 Bundesliga games, with Bayern’s former talisman Robert Lewandowski holding the previous record of 16.Kane, the league’s top scorer, also has four goals in the Champions League with Bundesliga leaders Bayern yet to drop points in the group stage.“It is impressive,” Bayern Munich’s sports director Christoph Freund said, per Reuters, after Kane’s double in the team’s 4-2 win against Heidenheim.“He is playing away from the UK for the first time and then he scores like that. The team also plays him into position. He is a phenomenon.”Kane, the Premier League’s second all-time scorer, was already considered a world-class talent before his switch from England to Germany, but it was unknown whether he could emulate his form at Tottenham.The 30-year-old has answered that question emphatically, ripping up the record books in the process.']\n",
    "emotion = \"positive\"  # Change this to the desired emotion (e.g., neutral, positive, negative, etc.)\n",
    "summaries = summarization_pipeline_with_emotion(articles_to_summarize, emotion)\n",
    "\n",
    "# Print or use the generated summaries\n",
    "for i, summary in enumerate(summaries):\n",
    "    print(f\"{emotion.capitalize()} Summary for Article {i + 1}:\\n{summary}\")"
   ]
  },
  {
   "cell_type": "code",
   "execution_count": 8,
   "id": "e7bfbbb4",
   "metadata": {},
   "outputs": [
    {
     "name": "stdout",
     "output_type": "stream",
     "text": [
      "Sarcastic Summary for Article 1:\n",
      "China rejoined the world economy in 1978, it became the most spectacular growth story in history. Farm reform, industrialisation and rising incomes lifted nearly 800m people out of extreme poverty. After China rejoined the world economy in 1978, it became the most spectacular growth story in history.\n",
      "Sarcastic Summary for Article 2:\n",
      "Trump is promising a second presidency that would be an aberration in American history.The former and possibly future commander in chief aspires to strongman power if he wins back the White House next year. He believes his authority would be absolute. He wants vengeance against his political enemies.\n"
     ]
    }
   ],
   "source": [
    "articles_to_summarize = ['Whatever has gone wrong? After China rejoined the world economy in 1978, it became the most spectacular growth story in history. Farm reform, industrialisation and rising incomes lifted nearly 800m people out of extreme poverty. Having produced just a tenth as much as America in 1980, China’s economy is now about three-quarters the size. Yet instead of roaring back after the government abandoned its “zero-covid” policy at the end of 2022, it is lurching from one ditch to the next.','Donald Trump is promising a second presidency that would be an aberration in American history.The former and possibly future commander in chief aspires to strongman power if he wins back the White House next year. He believes his authority would be absolute. He wants vengeance against his political enemies. He’d pose the greatest challenge to the rule of law and the Constitution in modern times, seek to crush press freedoms and gut the machinery of government.None of this is speculation. Trump is saying and showing exactly what he would do in his rallies, social media posts, interviews, lawyers’ filings and even appearances in court that he uses to stigmatize the legal system. And Trump’s ambitions should be taken seriously because one year from the election, President Joe Biden’s reelection hopes are far from secure.Take Trump’s speech in New Hampshire on Saturday, when he chose to rip at national divides rather than foster unity on Veterans Day.“We will root out the communists, Marxists, fascists and the radical left thugs that live like vermin within the confines of our country,” Trump said, using the demagogic technique of dehumanizing his opponents. He warned that “the real threat is not from the radical right. The real threat is from the radical left, and it’s growing every day.”']\n",
    "emotion = \"sarcastic\"  # Change this to the desired emotion (e.g., neutral, positive, negative, etc.)\n",
    "summaries = summarization_pipeline_with_emotion(articles_to_summarize, emotion)\n",
    "\n",
    "# Print or use the generated summaries\n",
    "for i, summary in enumerate(summaries):\n",
    "    print(f\"{emotion.capitalize()} Summary for Article {i + 1}:\\n{summary}\")"
   ]
  },
  {
   "cell_type": "code",
   "execution_count": 9,
   "id": "1e00c2a2",
   "metadata": {
    "scrolled": true
   },
   "outputs": [
    {
     "data": {
      "text/html": [
       "<div>\n",
       "<style scoped>\n",
       "    .dataframe tbody tr th:only-of-type {\n",
       "        vertical-align: middle;\n",
       "    }\n",
       "\n",
       "    .dataframe tbody tr th {\n",
       "        vertical-align: top;\n",
       "    }\n",
       "\n",
       "    .dataframe thead th {\n",
       "        text-align: right;\n",
       "    }\n",
       "</style>\n",
       "<table border=\"1\" class=\"dataframe\">\n",
       "  <thead>\n",
       "    <tr style=\"text-align: right;\">\n",
       "      <th></th>\n",
       "      <th>id</th>\n",
       "      <th>article</th>\n",
       "      <th>highlights</th>\n",
       "    </tr>\n",
       "  </thead>\n",
       "  <tbody>\n",
       "    <tr>\n",
       "      <th>0</th>\n",
       "      <td>92c514c913c0bdfe25341af9fd72b29db544099b</td>\n",
       "      <td>Ever noticed how plane seats appear to be gett...</td>\n",
       "      <td>Experts question if  packed out planes are put...</td>\n",
       "    </tr>\n",
       "    <tr>\n",
       "      <th>1</th>\n",
       "      <td>2003841c7dc0e7c5b1a248f9cd536d727f27a45a</td>\n",
       "      <td>A drunk teenage boy had to be rescued by secur...</td>\n",
       "      <td>Drunk teenage boy climbed into lion enclosure ...</td>\n",
       "    </tr>\n",
       "    <tr>\n",
       "      <th>2</th>\n",
       "      <td>91b7d2311527f5c2b63a65ca98d21d9c92485149</td>\n",
       "      <td>Dougie Freedman is on the verge of agreeing a ...</td>\n",
       "      <td>Nottingham Forest are close to extending Dougi...</td>\n",
       "    </tr>\n",
       "    <tr>\n",
       "      <th>3</th>\n",
       "      <td>caabf9cbdf96eb1410295a673e953d304391bfbb</td>\n",
       "      <td>Liverpool target Neto is also wanted by PSG an...</td>\n",
       "      <td>Fiorentina goalkeeper Neto has been linked wit...</td>\n",
       "    </tr>\n",
       "    <tr>\n",
       "      <th>4</th>\n",
       "      <td>3da746a7d9afcaa659088c8366ef6347fe6b53ea</td>\n",
       "      <td>Bruce Jenner will break his silence in a two-h...</td>\n",
       "      <td>Tell-all interview with the reality TV star, 6...</td>\n",
       "    </tr>\n",
       "    <tr>\n",
       "      <th>...</th>\n",
       "      <td>...</td>\n",
       "      <td>...</td>\n",
       "      <td>...</td>\n",
       "    </tr>\n",
       "    <tr>\n",
       "      <th>11485</th>\n",
       "      <td>ed8674cc15b29a87d8df8de1efee353d71122272</td>\n",
       "      <td>Our young Earth may have collided with a body ...</td>\n",
       "      <td>Oxford scientists say a Mercury-like body stru...</td>\n",
       "    </tr>\n",
       "    <tr>\n",
       "      <th>11486</th>\n",
       "      <td>2f58d1a99e9c47914e4b1c31613e3a041cd9011e</td>\n",
       "      <td>A man facing trial for helping his former love...</td>\n",
       "      <td>Man accused of helping former lover kill woman...</td>\n",
       "    </tr>\n",
       "    <tr>\n",
       "      <th>11487</th>\n",
       "      <td>411f6d57825161c3a037b4742baccd6cd227c0c3</td>\n",
       "      <td>A dozen or more metal implements are arranged ...</td>\n",
       "      <td>Marianne Power tried the tuning fork facial at...</td>\n",
       "    </tr>\n",
       "    <tr>\n",
       "      <th>11488</th>\n",
       "      <td>b5683ef8342056b17b068e0d59bdbe87e3fe44ea</td>\n",
       "      <td>Brook Lopez dominated twin brother Robin with ...</td>\n",
       "      <td>Brooklyn Nets beat the Portland Trail Blazers ...</td>\n",
       "    </tr>\n",
       "    <tr>\n",
       "      <th>11489</th>\n",
       "      <td>a6a5491edb0c96c4391b6a8c4504416b3572b3a1</td>\n",
       "      <td>A Chinese hospital is being painstakingly move...</td>\n",
       "      <td>Chinese hospital marked for demolition because...</td>\n",
       "    </tr>\n",
       "  </tbody>\n",
       "</table>\n",
       "<p>11490 rows × 3 columns</p>\n",
       "</div>"
      ],
      "text/plain": [
       "                                             id  \\\n",
       "0      92c514c913c0bdfe25341af9fd72b29db544099b   \n",
       "1      2003841c7dc0e7c5b1a248f9cd536d727f27a45a   \n",
       "2      91b7d2311527f5c2b63a65ca98d21d9c92485149   \n",
       "3      caabf9cbdf96eb1410295a673e953d304391bfbb   \n",
       "4      3da746a7d9afcaa659088c8366ef6347fe6b53ea   \n",
       "...                                         ...   \n",
       "11485  ed8674cc15b29a87d8df8de1efee353d71122272   \n",
       "11486  2f58d1a99e9c47914e4b1c31613e3a041cd9011e   \n",
       "11487  411f6d57825161c3a037b4742baccd6cd227c0c3   \n",
       "11488  b5683ef8342056b17b068e0d59bdbe87e3fe44ea   \n",
       "11489  a6a5491edb0c96c4391b6a8c4504416b3572b3a1   \n",
       "\n",
       "                                                 article  \\\n",
       "0      Ever noticed how plane seats appear to be gett...   \n",
       "1      A drunk teenage boy had to be rescued by secur...   \n",
       "2      Dougie Freedman is on the verge of agreeing a ...   \n",
       "3      Liverpool target Neto is also wanted by PSG an...   \n",
       "4      Bruce Jenner will break his silence in a two-h...   \n",
       "...                                                  ...   \n",
       "11485  Our young Earth may have collided with a body ...   \n",
       "11486  A man facing trial for helping his former love...   \n",
       "11487  A dozen or more metal implements are arranged ...   \n",
       "11488  Brook Lopez dominated twin brother Robin with ...   \n",
       "11489  A Chinese hospital is being painstakingly move...   \n",
       "\n",
       "                                              highlights  \n",
       "0      Experts question if  packed out planes are put...  \n",
       "1      Drunk teenage boy climbed into lion enclosure ...  \n",
       "2      Nottingham Forest are close to extending Dougi...  \n",
       "3      Fiorentina goalkeeper Neto has been linked wit...  \n",
       "4      Tell-all interview with the reality TV star, 6...  \n",
       "...                                                  ...  \n",
       "11485  Oxford scientists say a Mercury-like body stru...  \n",
       "11486  Man accused of helping former lover kill woman...  \n",
       "11487  Marianne Power tried the tuning fork facial at...  \n",
       "11488  Brooklyn Nets beat the Portland Trail Blazers ...  \n",
       "11489  Chinese hospital marked for demolition because...  \n",
       "\n",
       "[11490 rows x 3 columns]"
      ]
     },
     "execution_count": 9,
     "metadata": {},
     "output_type": "execute_result"
    }
   ],
   "source": [
    "df"
   ]
  },
  {
   "cell_type": "code",
   "execution_count": 10,
   "id": "b71832d3",
   "metadata": {},
   "outputs": [
    {
     "name": "stdout",
     "output_type": "stream",
     "text": [
      "Positive Summary for Article 1:\n",
      "'The shrinking space on planes is not only uncomfortable - it's putting our health and safety in danger,' said Consumer Representative on the committee. 'It is time that the DOT and FAA take a stand for humane treatment of passengers'\n",
      "Positive Summary for Article 2:\n",
      "Rahul Kumar, 17, climbed into a lions' enclosure at a zoo in Ahmedabad. He ran towards the animals shouting: 'Today I kill a lion or a lion kills me!' Mr Kumar had been sitting near the enclosure when he suddenly made a dash for the lions. He was drunk and 'thought I'd stand a good chance' against the predators.\n"
     ]
    }
   ],
   "source": [
    "articles_to_summarize = [\"Ever noticed how plane seats appear to be getting smaller and smaller? With increasing numbers of people taking to the skies, some experts are questioning if having such packed out planes is putting passengers at risk. They say that the shrinking space on aeroplanes is not only uncomfortable - it's putting our health and safety in danger. More than squabbling over the arm rest, shrinking space on planes putting our health and safety in danger? This week, a U.S consumer advisory group set up by the Department of Transportation said at a public hearing that while the government is happy to set standards for animals flying on planes, it doesn't stipulate a minimum amount of space for humans. 'In a world where animals have more rights to space and food than humans,' said Charlie Leocha, consumer representative on the committee.Â 'It is time that the DOT and FAA take a stand for humane treatment of passengers.' But could crowding on planes lead to more serious issues than fighting for space in the overhead lockers, crashing elbows and seat back kicking? Tests conducted by the FAA use planes with a 31 inch pitch, a standard which on some airlines has decreased . Many economy seats on United Airlines have 30 inches of room, while some airlines offer as little as 28 inches . Cynthia Corbertt, a human factors researcher with the Federal Aviation Administration, that it conducts tests on how quickly passengers can leave a plane. But these tests are conducted using planes with 31 inches between each row of seats, a standard which on some airlines has decreased, reported the Detroit News. The distance between two seats from one point on a seat to the same point on the seat behind it is known as the pitch. While most airlines stick to a pitch of 31 inches or above, some fall below this. While United Airlines has 30 inches of space, Gulf Air economy seats have between 29 and 32 inches, Air Asia offers 29 inches and Spirit Airlines offers just 28 inches. British Airways has a seat pitch of 31 inches, while easyJet has 29 inches, Thomson's short haul seat pitch is 28 inches, and Virgin Atlantic's is 30-31.\",\"A drunk teenage boy had to be rescued by security after jumping into a lions' enclosure at a zoo in western India. Rahul Kumar, 17, clambered over the enclosure fence at theÂ Kamla Nehru Zoological Park in Ahmedabad, and began running towards the animals, shouting he would 'kill them'. Mr Kumar explained afterwards that he was drunk and 'thought I'd stand a good chance' against the predators. Next level drunk: Intoxicated Rahul Kumar, 17, climbed into the lions' enclosure at a zoo in Ahmedabad and began running towards the animals shouting 'Today I kill a lion!' Mr Kumar had been sitting near the enclosure when he suddenly made a dash for the lions, surprising zoo security. The intoxicated teenager ran towards the lions, shouting: 'Today I kill a lion or a lion kills me!' A zoo spokesman said: 'Guards had earlier spotted him close to the enclosure but had no idea he was planing to enter it. 'Fortunately, there are eight moats to cross before getting to where the lions usually are and he fell into the second one, allowing guards to catch up with him and take him out. 'We then handed him over to the police.' Brave fool: Fortunately, Mr Kumar  fell into a moat as he ran towards the lions and could be rescued by zoo security staff before reaching the animals (stock image) Kumar later explained: 'I don't really know why I did it. 'I was drunk and thought I'd stand a good chance.' A police spokesman said: 'He has been cautioned and will be sent for psychiatric evaluation. 'Fortunately for him, the lions were asleep and the zoo guards acted quickly enough to prevent a tragedy similar to that in Delhi.' Last year a 20-year-old man was mauled to death by a tiger in the Indian capital after climbing into its enclosure at the city zoo.\"]\n",
    "emotion = 'positive'\n",
    "summaries = summarization_pipeline_with_emotion(articles_to_summarize, emotion)\n",
    "\n",
    "# Print or use the generated summaries\n",
    "for i, summary in enumerate(summaries):\n",
    "    print(f\"{emotion.capitalize()} Summary for Article {i + 1}:\\n{summary}\")"
   ]
  },
  {
   "cell_type": "code",
   "execution_count": 13,
   "id": "66a45974",
   "metadata": {},
   "outputs": [
    {
     "name": "stdout",
     "output_type": "stream",
     "text": [
      "Summary for Article 1:\n",
      "'The shrinking space on planes is not only uncomfortable - it's putting our health and safety in danger,' said Consumer Representative on the committee. 'It is time that the DOT and FAA take a stand for humane treatment of passengers'\n",
      "Most Similar Article:\n",
      "Ever noticed how plane seats appear to be getting smaller and smaller? With increasing numbers of people taking to the skies, some experts are questioning if having such packed out planes is putting passengers at risk. They say that the shrinking space on aeroplanes is not only uncomfortable - it's putting our health and safety in danger. More than squabbling over the arm rest, shrinking space on planes putting our health and safety in danger? This week, a U.S consumer advisory group set up by the Department of Transportation said at a public hearing that while the government is happy to set standards for animals flying on planes, it doesn't stipulate a minimum amount of space for humans. 'In a world where animals have more rights to space and food than humans,' said Charlie Leocha, consumer representative on the committee. 'It is time that the DOT and FAA take a stand for humane treatment of passengers.' But could crowding on planes lead to more serious issues than fighting for space in the overhead lockers, crashing elbows and seat back kicking? Tests conducted by the FAA use planes with a 31 inch pitch, a standard which on some airlines has decreased . Many economy seats on United Airlines have 30 inches of room, while some airlines offer as little as 28 inches . Cynthia Corbertt, a human factors researcher with the Federal Aviation Administration, that it conducts tests on how quickly passengers can leave a plane. But these tests are conducted using planes with 31 inches between each row of seats, a standard which on some airlines has decreased, reported the Detroit News. The distance between two seats from one point on a seat to the same point on the seat behind it is known as the pitch. While most airlines stick to a pitch of 31 inches or above, some fall below this. While United Airlines has 30 inches of space, Gulf Air economy seats have between 29 and 32 inches, Air Asia offers 29 inches and Spirit Airlines offers just 28 inches. British Airways has a seat pitch of 31 inches, while easyJet has 29 inches, Thomson's short haul seat pitch is 28 inches, and Virgin Atlantic's is 30-31.\n",
      "Cosine Similarity Score: 0.2906404143258703\n",
      "\n",
      "Summary for Article 2:\n",
      "Rahul Kumar, 17, climbed into a lions' enclosure at a zoo in Ahmedabad. He ran towards the animals shouting: 'Today I kill a lion or a lion kills me!' Mr Kumar had been sitting near the enclosure when he suddenly made a dash for the lions. He was drunk and 'thought I'd stand a good chance' against the predators.\n",
      "Most Similar Article:\n",
      "A drunk teenage boy had to be rescued by security after jumping into a lions' enclosure at a zoo in western India. Rahul Kumar, 17, clambered over the enclosure fence at the Kamla Nehru Zoological Park in Ahmedabad, and began running towards the animals, shouting he would 'kill them'. Mr Kumar explained afterwards that he was drunk and 'thought I'd stand a good chance' against the predators. Next level drunk: Intoxicated Rahul Kumar, 17, climbed into the lions' enclosure at a zoo in Ahmedabad and began running towards the animals shouting 'Today I kill a lion!' Mr Kumar had been sitting near the enclosure when he suddenly made a dash for the lions, surprising zoo security. The intoxicated teenager ran towards the lions, shouting: 'Today I kill a lion or a lion kills me!' A zoo spokesman said: 'Guards had earlier spotted him close to the enclosure but had no idea he was planing to enter it. 'Fortunately, there are eight moats to cross before getting to where the lions usually are and he fell into the second one, allowing guards to catch up with him and take him out. 'We then handed him over to the police.' Brave fool: Fortunately, Mr Kumar  fell into a moat as he ran towards the lions and could be rescued by zoo security staff before reaching the animals (stock image) Kumar later explained: 'I don't really know why I did it. 'I was drunk and thought I'd stand a good chance.' A police spokesman said: 'He has been cautioned and will be sent for psychiatric evaluation. 'Fortunately for him, the lions were asleep and the zoo guards acted quickly enough to prevent a tragedy similar to that in Delhi.' Last year a 20-year-old man was mauled to death by a tiger in the Indian capital after climbing into its enclosure at the city zoo.\n",
      "Cosine Similarity Score: 0.6638969754404707\n",
      "\n"
     ]
    }
   ],
   "source": [
    "from sklearn.feature_extraction.text import TfidfVectorizer\n",
    "from sklearn.metrics.pairwise import cosine_similarity\n",
    "\n",
    "# Assuming df is your DataFrame containing the dataset\n",
    "# You might need to adjust the column names based on your actual dataset structure\n",
    "\n",
    "# Extract highlights from the dataset\n",
    "highlights_from_dataset = df['highlights'].tolist()\n",
    "\n",
    "# Tokenize and vectorize the highlights using TF-IDF\n",
    "vectorizer = TfidfVectorizer()\n",
    "tfidf_matrix = vectorizer.fit_transform(highlights_from_dataset)\n",
    "\n",
    "# Function to calculate cosine similarity between a generated summary and dataset highlights\n",
    "def calculate_similarity(summary, tfidf_matrix, vectorizer):\n",
    "    summary_vector = vectorizer.transform([summary])\n",
    "    similarity_scores = cosine_similarity(summary_vector, tfidf_matrix)\n",
    "    return similarity_scores\n",
    "\n",
    "# Function to find the most similar article based on highlights\n",
    "def find_most_similar_article(summary, df, tfidf_matrix, vectorizer):\n",
    "    similarity_scores = calculate_similarity(summary, tfidf_matrix, vectorizer)\n",
    "    most_similar_index = similarity_scores.argmax()\n",
    "    most_similar_article = df.loc[most_similar_index, 'article']\n",
    "    similarity_score = similarity_scores[0, most_similar_index]\n",
    "    return most_similar_article, similarity_score\n",
    "\n",
    "# Example usage\n",
    "for i, summary in enumerate(summaries):\n",
    "    most_similar_article, similarity_score = find_most_similar_article(summary, df, tfidf_matrix, vectorizer)\n",
    "    print(f\"Summary for Article {i + 1}:\\n{summary}\")\n",
    "    print(f\"Most Similar Article:\\n{most_similar_article}\")\n",
    "    print(f\"Cosine Similarity Score: {similarity_score}\\n\")\n"
   ]
  },
  {
   "cell_type": "code",
   "execution_count": null,
   "id": "cbf38bfa",
   "metadata": {},
   "outputs": [],
   "source": []
  }
 ],
 "metadata": {
  "kernelspec": {
   "display_name": "Python 3 (ipykernel)",
   "language": "python",
   "name": "python3"
  },
  "language_info": {
   "codemirror_mode": {
    "name": "ipython",
    "version": 3
   },
   "file_extension": ".py",
   "mimetype": "text/x-python",
   "name": "python",
   "nbconvert_exporter": "python",
   "pygments_lexer": "ipython3",
   "version": "3.9.12"
  }
 },
 "nbformat": 4,
 "nbformat_minor": 5
}
