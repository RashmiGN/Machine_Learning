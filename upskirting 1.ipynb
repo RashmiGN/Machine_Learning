{
  "nbformat": 4,
  "nbformat_minor": 0,
  "metadata": {
    "colab": {
      "provenance": []
    },
    "kernelspec": {
      "name": "python3",
      "display_name": "Python 3"
    },
    "language_info": {
      "name": "python"
    },
    "widgets": {
      "application/vnd.jupyter.widget-state+json": {
        "ea0e58b298094388bbf75f1fc74a5241": {
          "model_module": "@jupyter-widgets/controls",
          "model_name": "HBoxModel",
          "model_module_version": "1.5.0",
          "state": {
            "_dom_classes": [],
            "_model_module": "@jupyter-widgets/controls",
            "_model_module_version": "1.5.0",
            "_model_name": "HBoxModel",
            "_view_count": null,
            "_view_module": "@jupyter-widgets/controls",
            "_view_module_version": "1.5.0",
            "_view_name": "HBoxView",
            "box_style": "",
            "children": [
              "IPY_MODEL_4f5b8b26e0c04fa3bfcb2884e1a945a9",
              "IPY_MODEL_9a3954b9121e453593208aa53b76b25c",
              "IPY_MODEL_1c14551464304d9d82bcc66ece76d8da"
            ],
            "layout": "IPY_MODEL_0f4243ca925b4c2ba2fb0fd80fcdc7f4"
          }
        },
        "4f5b8b26e0c04fa3bfcb2884e1a945a9": {
          "model_module": "@jupyter-widgets/controls",
          "model_name": "HTMLModel",
          "model_module_version": "1.5.0",
          "state": {
            "_dom_classes": [],
            "_model_module": "@jupyter-widgets/controls",
            "_model_module_version": "1.5.0",
            "_model_name": "HTMLModel",
            "_view_count": null,
            "_view_module": "@jupyter-widgets/controls",
            "_view_module_version": "1.5.0",
            "_view_name": "HTMLView",
            "description": "",
            "description_tooltip": null,
            "layout": "IPY_MODEL_122780a4f3f44a3ca41ccb1020ac4400",
            "placeholder": "​",
            "style": "IPY_MODEL_580b7dcb8b9a4ba788df8a11221d9fc4",
            "value": "Map: 100%"
          }
        },
        "9a3954b9121e453593208aa53b76b25c": {
          "model_module": "@jupyter-widgets/controls",
          "model_name": "FloatProgressModel",
          "model_module_version": "1.5.0",
          "state": {
            "_dom_classes": [],
            "_model_module": "@jupyter-widgets/controls",
            "_model_module_version": "1.5.0",
            "_model_name": "FloatProgressModel",
            "_view_count": null,
            "_view_module": "@jupyter-widgets/controls",
            "_view_module_version": "1.5.0",
            "_view_name": "ProgressView",
            "bar_style": "success",
            "description": "",
            "description_tooltip": null,
            "layout": "IPY_MODEL_c77e9bbe83cb465e9272522a5ea851d8",
            "max": 1204,
            "min": 0,
            "orientation": "horizontal",
            "style": "IPY_MODEL_bf7fdf1144d741e797a1498fcec17fb3",
            "value": 1204
          }
        },
        "1c14551464304d9d82bcc66ece76d8da": {
          "model_module": "@jupyter-widgets/controls",
          "model_name": "HTMLModel",
          "model_module_version": "1.5.0",
          "state": {
            "_dom_classes": [],
            "_model_module": "@jupyter-widgets/controls",
            "_model_module_version": "1.5.0",
            "_model_name": "HTMLModel",
            "_view_count": null,
            "_view_module": "@jupyter-widgets/controls",
            "_view_module_version": "1.5.0",
            "_view_name": "HTMLView",
            "description": "",
            "description_tooltip": null,
            "layout": "IPY_MODEL_7bdb3e41aa964f82ab01be3e85d78bda",
            "placeholder": "​",
            "style": "IPY_MODEL_7e462a1fd69e4e2781a2b76020c10579",
            "value": " 1204/1204 [05:17&lt;00:00,  4.47 examples/s]"
          }
        },
        "0f4243ca925b4c2ba2fb0fd80fcdc7f4": {
          "model_module": "@jupyter-widgets/base",
          "model_name": "LayoutModel",
          "model_module_version": "1.2.0",
          "state": {
            "_model_module": "@jupyter-widgets/base",
            "_model_module_version": "1.2.0",
            "_model_name": "LayoutModel",
            "_view_count": null,
            "_view_module": "@jupyter-widgets/base",
            "_view_module_version": "1.2.0",
            "_view_name": "LayoutView",
            "align_content": null,
            "align_items": null,
            "align_self": null,
            "border": null,
            "bottom": null,
            "display": null,
            "flex": null,
            "flex_flow": null,
            "grid_area": null,
            "grid_auto_columns": null,
            "grid_auto_flow": null,
            "grid_auto_rows": null,
            "grid_column": null,
            "grid_gap": null,
            "grid_row": null,
            "grid_template_areas": null,
            "grid_template_columns": null,
            "grid_template_rows": null,
            "height": null,
            "justify_content": null,
            "justify_items": null,
            "left": null,
            "margin": null,
            "max_height": null,
            "max_width": null,
            "min_height": null,
            "min_width": null,
            "object_fit": null,
            "object_position": null,
            "order": null,
            "overflow": null,
            "overflow_x": null,
            "overflow_y": null,
            "padding": null,
            "right": null,
            "top": null,
            "visibility": null,
            "width": null
          }
        },
        "122780a4f3f44a3ca41ccb1020ac4400": {
          "model_module": "@jupyter-widgets/base",
          "model_name": "LayoutModel",
          "model_module_version": "1.2.0",
          "state": {
            "_model_module": "@jupyter-widgets/base",
            "_model_module_version": "1.2.0",
            "_model_name": "LayoutModel",
            "_view_count": null,
            "_view_module": "@jupyter-widgets/base",
            "_view_module_version": "1.2.0",
            "_view_name": "LayoutView",
            "align_content": null,
            "align_items": null,
            "align_self": null,
            "border": null,
            "bottom": null,
            "display": null,
            "flex": null,
            "flex_flow": null,
            "grid_area": null,
            "grid_auto_columns": null,
            "grid_auto_flow": null,
            "grid_auto_rows": null,
            "grid_column": null,
            "grid_gap": null,
            "grid_row": null,
            "grid_template_areas": null,
            "grid_template_columns": null,
            "grid_template_rows": null,
            "height": null,
            "justify_content": null,
            "justify_items": null,
            "left": null,
            "margin": null,
            "max_height": null,
            "max_width": null,
            "min_height": null,
            "min_width": null,
            "object_fit": null,
            "object_position": null,
            "order": null,
            "overflow": null,
            "overflow_x": null,
            "overflow_y": null,
            "padding": null,
            "right": null,
            "top": null,
            "visibility": null,
            "width": null
          }
        },
        "580b7dcb8b9a4ba788df8a11221d9fc4": {
          "model_module": "@jupyter-widgets/controls",
          "model_name": "DescriptionStyleModel",
          "model_module_version": "1.5.0",
          "state": {
            "_model_module": "@jupyter-widgets/controls",
            "_model_module_version": "1.5.0",
            "_model_name": "DescriptionStyleModel",
            "_view_count": null,
            "_view_module": "@jupyter-widgets/base",
            "_view_module_version": "1.2.0",
            "_view_name": "StyleView",
            "description_width": ""
          }
        },
        "c77e9bbe83cb465e9272522a5ea851d8": {
          "model_module": "@jupyter-widgets/base",
          "model_name": "LayoutModel",
          "model_module_version": "1.2.0",
          "state": {
            "_model_module": "@jupyter-widgets/base",
            "_model_module_version": "1.2.0",
            "_model_name": "LayoutModel",
            "_view_count": null,
            "_view_module": "@jupyter-widgets/base",
            "_view_module_version": "1.2.0",
            "_view_name": "LayoutView",
            "align_content": null,
            "align_items": null,
            "align_self": null,
            "border": null,
            "bottom": null,
            "display": null,
            "flex": null,
            "flex_flow": null,
            "grid_area": null,
            "grid_auto_columns": null,
            "grid_auto_flow": null,
            "grid_auto_rows": null,
            "grid_column": null,
            "grid_gap": null,
            "grid_row": null,
            "grid_template_areas": null,
            "grid_template_columns": null,
            "grid_template_rows": null,
            "height": null,
            "justify_content": null,
            "justify_items": null,
            "left": null,
            "margin": null,
            "max_height": null,
            "max_width": null,
            "min_height": null,
            "min_width": null,
            "object_fit": null,
            "object_position": null,
            "order": null,
            "overflow": null,
            "overflow_x": null,
            "overflow_y": null,
            "padding": null,
            "right": null,
            "top": null,
            "visibility": null,
            "width": null
          }
        },
        "bf7fdf1144d741e797a1498fcec17fb3": {
          "model_module": "@jupyter-widgets/controls",
          "model_name": "ProgressStyleModel",
          "model_module_version": "1.5.0",
          "state": {
            "_model_module": "@jupyter-widgets/controls",
            "_model_module_version": "1.5.0",
            "_model_name": "ProgressStyleModel",
            "_view_count": null,
            "_view_module": "@jupyter-widgets/base",
            "_view_module_version": "1.2.0",
            "_view_name": "StyleView",
            "bar_color": null,
            "description_width": ""
          }
        },
        "7bdb3e41aa964f82ab01be3e85d78bda": {
          "model_module": "@jupyter-widgets/base",
          "model_name": "LayoutModel",
          "model_module_version": "1.2.0",
          "state": {
            "_model_module": "@jupyter-widgets/base",
            "_model_module_version": "1.2.0",
            "_model_name": "LayoutModel",
            "_view_count": null,
            "_view_module": "@jupyter-widgets/base",
            "_view_module_version": "1.2.0",
            "_view_name": "LayoutView",
            "align_content": null,
            "align_items": null,
            "align_self": null,
            "border": null,
            "bottom": null,
            "display": null,
            "flex": null,
            "flex_flow": null,
            "grid_area": null,
            "grid_auto_columns": null,
            "grid_auto_flow": null,
            "grid_auto_rows": null,
            "grid_column": null,
            "grid_gap": null,
            "grid_row": null,
            "grid_template_areas": null,
            "grid_template_columns": null,
            "grid_template_rows": null,
            "height": null,
            "justify_content": null,
            "justify_items": null,
            "left": null,
            "margin": null,
            "max_height": null,
            "max_width": null,
            "min_height": null,
            "min_width": null,
            "object_fit": null,
            "object_position": null,
            "order": null,
            "overflow": null,
            "overflow_x": null,
            "overflow_y": null,
            "padding": null,
            "right": null,
            "top": null,
            "visibility": null,
            "width": null
          }
        },
        "7e462a1fd69e4e2781a2b76020c10579": {
          "model_module": "@jupyter-widgets/controls",
          "model_name": "DescriptionStyleModel",
          "model_module_version": "1.5.0",
          "state": {
            "_model_module": "@jupyter-widgets/controls",
            "_model_module_version": "1.5.0",
            "_model_name": "DescriptionStyleModel",
            "_view_count": null,
            "_view_module": "@jupyter-widgets/base",
            "_view_module_version": "1.2.0",
            "_view_name": "StyleView",
            "description_width": ""
          }
        },
        "afcb7a3b99054c338f34a47045a082c5": {
          "model_module": "@jupyter-widgets/controls",
          "model_name": "HBoxModel",
          "model_module_version": "1.5.0",
          "state": {
            "_dom_classes": [],
            "_model_module": "@jupyter-widgets/controls",
            "_model_module_version": "1.5.0",
            "_model_name": "HBoxModel",
            "_view_count": null,
            "_view_module": "@jupyter-widgets/controls",
            "_view_module_version": "1.5.0",
            "_view_name": "HBoxView",
            "box_style": "",
            "children": [
              "IPY_MODEL_5d2319c02d5a4e9f80112708c2e91edf",
              "IPY_MODEL_d56c71b57f244deba70b7e0226381951",
              "IPY_MODEL_7118b1375f77402bafd3cda19f89bde0"
            ],
            "layout": "IPY_MODEL_9d3a8eac8c184976894b05b256337f2e"
          }
        },
        "5d2319c02d5a4e9f80112708c2e91edf": {
          "model_module": "@jupyter-widgets/controls",
          "model_name": "HTMLModel",
          "model_module_version": "1.5.0",
          "state": {
            "_dom_classes": [],
            "_model_module": "@jupyter-widgets/controls",
            "_model_module_version": "1.5.0",
            "_model_name": "HTMLModel",
            "_view_count": null,
            "_view_module": "@jupyter-widgets/controls",
            "_view_module_version": "1.5.0",
            "_view_name": "HTMLView",
            "description": "",
            "description_tooltip": null,
            "layout": "IPY_MODEL_7ed137962c0042ecb02320109ff46ed8",
            "placeholder": "​",
            "style": "IPY_MODEL_cdc9adaeb8e14b93b323a31e2fed1415",
            "value": "100%"
          }
        },
        "d56c71b57f244deba70b7e0226381951": {
          "model_module": "@jupyter-widgets/controls",
          "model_name": "FloatProgressModel",
          "model_module_version": "1.5.0",
          "state": {
            "_dom_classes": [],
            "_model_module": "@jupyter-widgets/controls",
            "_model_module_version": "1.5.0",
            "_model_name": "FloatProgressModel",
            "_view_count": null,
            "_view_module": "@jupyter-widgets/controls",
            "_view_module_version": "1.5.0",
            "_view_name": "ProgressView",
            "bar_style": "success",
            "description": "",
            "description_tooltip": null,
            "layout": "IPY_MODEL_1947a4196695419cb30a8fba899199b7",
            "max": 25,
            "min": 0,
            "orientation": "horizontal",
            "style": "IPY_MODEL_6c60618c802e4f40bd84761bb8c99749",
            "value": 25
          }
        },
        "7118b1375f77402bafd3cda19f89bde0": {
          "model_module": "@jupyter-widgets/controls",
          "model_name": "HTMLModel",
          "model_module_version": "1.5.0",
          "state": {
            "_dom_classes": [],
            "_model_module": "@jupyter-widgets/controls",
            "_model_module_version": "1.5.0",
            "_model_name": "HTMLModel",
            "_view_count": null,
            "_view_module": "@jupyter-widgets/controls",
            "_view_module_version": "1.5.0",
            "_view_name": "HTMLView",
            "description": "",
            "description_tooltip": null,
            "layout": "IPY_MODEL_9ea2db079bf14d21ba79eaad8a9a19fc",
            "placeholder": "​",
            "style": "IPY_MODEL_93f88476f10f429bbaa823e405866e7e",
            "value": " 25/25 [00:03&lt;00:00,  7.64it/s]"
          }
        },
        "9d3a8eac8c184976894b05b256337f2e": {
          "model_module": "@jupyter-widgets/base",
          "model_name": "LayoutModel",
          "model_module_version": "1.2.0",
          "state": {
            "_model_module": "@jupyter-widgets/base",
            "_model_module_version": "1.2.0",
            "_model_name": "LayoutModel",
            "_view_count": null,
            "_view_module": "@jupyter-widgets/base",
            "_view_module_version": "1.2.0",
            "_view_name": "LayoutView",
            "align_content": null,
            "align_items": null,
            "align_self": null,
            "border": null,
            "bottom": null,
            "display": null,
            "flex": null,
            "flex_flow": null,
            "grid_area": null,
            "grid_auto_columns": null,
            "grid_auto_flow": null,
            "grid_auto_rows": null,
            "grid_column": null,
            "grid_gap": null,
            "grid_row": null,
            "grid_template_areas": null,
            "grid_template_columns": null,
            "grid_template_rows": null,
            "height": null,
            "justify_content": null,
            "justify_items": null,
            "left": null,
            "margin": null,
            "max_height": null,
            "max_width": null,
            "min_height": null,
            "min_width": null,
            "object_fit": null,
            "object_position": null,
            "order": null,
            "overflow": null,
            "overflow_x": null,
            "overflow_y": null,
            "padding": null,
            "right": null,
            "top": null,
            "visibility": null,
            "width": null
          }
        },
        "7ed137962c0042ecb02320109ff46ed8": {
          "model_module": "@jupyter-widgets/base",
          "model_name": "LayoutModel",
          "model_module_version": "1.2.0",
          "state": {
            "_model_module": "@jupyter-widgets/base",
            "_model_module_version": "1.2.0",
            "_model_name": "LayoutModel",
            "_view_count": null,
            "_view_module": "@jupyter-widgets/base",
            "_view_module_version": "1.2.0",
            "_view_name": "LayoutView",
            "align_content": null,
            "align_items": null,
            "align_self": null,
            "border": null,
            "bottom": null,
            "display": null,
            "flex": null,
            "flex_flow": null,
            "grid_area": null,
            "grid_auto_columns": null,
            "grid_auto_flow": null,
            "grid_auto_rows": null,
            "grid_column": null,
            "grid_gap": null,
            "grid_row": null,
            "grid_template_areas": null,
            "grid_template_columns": null,
            "grid_template_rows": null,
            "height": null,
            "justify_content": null,
            "justify_items": null,
            "left": null,
            "margin": null,
            "max_height": null,
            "max_width": null,
            "min_height": null,
            "min_width": null,
            "object_fit": null,
            "object_position": null,
            "order": null,
            "overflow": null,
            "overflow_x": null,
            "overflow_y": null,
            "padding": null,
            "right": null,
            "top": null,
            "visibility": null,
            "width": null
          }
        },
        "cdc9adaeb8e14b93b323a31e2fed1415": {
          "model_module": "@jupyter-widgets/controls",
          "model_name": "DescriptionStyleModel",
          "model_module_version": "1.5.0",
          "state": {
            "_model_module": "@jupyter-widgets/controls",
            "_model_module_version": "1.5.0",
            "_model_name": "DescriptionStyleModel",
            "_view_count": null,
            "_view_module": "@jupyter-widgets/base",
            "_view_module_version": "1.2.0",
            "_view_name": "StyleView",
            "description_width": ""
          }
        },
        "1947a4196695419cb30a8fba899199b7": {
          "model_module": "@jupyter-widgets/base",
          "model_name": "LayoutModel",
          "model_module_version": "1.2.0",
          "state": {
            "_model_module": "@jupyter-widgets/base",
            "_model_module_version": "1.2.0",
            "_model_name": "LayoutModel",
            "_view_count": null,
            "_view_module": "@jupyter-widgets/base",
            "_view_module_version": "1.2.0",
            "_view_name": "LayoutView",
            "align_content": null,
            "align_items": null,
            "align_self": null,
            "border": null,
            "bottom": null,
            "display": null,
            "flex": null,
            "flex_flow": null,
            "grid_area": null,
            "grid_auto_columns": null,
            "grid_auto_flow": null,
            "grid_auto_rows": null,
            "grid_column": null,
            "grid_gap": null,
            "grid_row": null,
            "grid_template_areas": null,
            "grid_template_columns": null,
            "grid_template_rows": null,
            "height": null,
            "justify_content": null,
            "justify_items": null,
            "left": null,
            "margin": null,
            "max_height": null,
            "max_width": null,
            "min_height": null,
            "min_width": null,
            "object_fit": null,
            "object_position": null,
            "order": null,
            "overflow": null,
            "overflow_x": null,
            "overflow_y": null,
            "padding": null,
            "right": null,
            "top": null,
            "visibility": null,
            "width": null
          }
        },
        "6c60618c802e4f40bd84761bb8c99749": {
          "model_module": "@jupyter-widgets/controls",
          "model_name": "ProgressStyleModel",
          "model_module_version": "1.5.0",
          "state": {
            "_model_module": "@jupyter-widgets/controls",
            "_model_module_version": "1.5.0",
            "_model_name": "ProgressStyleModel",
            "_view_count": null,
            "_view_module": "@jupyter-widgets/base",
            "_view_module_version": "1.2.0",
            "_view_name": "StyleView",
            "bar_color": null,
            "description_width": ""
          }
        },
        "9ea2db079bf14d21ba79eaad8a9a19fc": {
          "model_module": "@jupyter-widgets/base",
          "model_name": "LayoutModel",
          "model_module_version": "1.2.0",
          "state": {
            "_model_module": "@jupyter-widgets/base",
            "_model_module_version": "1.2.0",
            "_model_name": "LayoutModel",
            "_view_count": null,
            "_view_module": "@jupyter-widgets/base",
            "_view_module_version": "1.2.0",
            "_view_name": "LayoutView",
            "align_content": null,
            "align_items": null,
            "align_self": null,
            "border": null,
            "bottom": null,
            "display": null,
            "flex": null,
            "flex_flow": null,
            "grid_area": null,
            "grid_auto_columns": null,
            "grid_auto_flow": null,
            "grid_auto_rows": null,
            "grid_column": null,
            "grid_gap": null,
            "grid_row": null,
            "grid_template_areas": null,
            "grid_template_columns": null,
            "grid_template_rows": null,
            "height": null,
            "justify_content": null,
            "justify_items": null,
            "left": null,
            "margin": null,
            "max_height": null,
            "max_width": null,
            "min_height": null,
            "min_width": null,
            "object_fit": null,
            "object_position": null,
            "order": null,
            "overflow": null,
            "overflow_x": null,
            "overflow_y": null,
            "padding": null,
            "right": null,
            "top": null,
            "visibility": null,
            "width": null
          }
        },
        "93f88476f10f429bbaa823e405866e7e": {
          "model_module": "@jupyter-widgets/controls",
          "model_name": "DescriptionStyleModel",
          "model_module_version": "1.5.0",
          "state": {
            "_model_module": "@jupyter-widgets/controls",
            "_model_module_version": "1.5.0",
            "_model_name": "DescriptionStyleModel",
            "_view_count": null,
            "_view_module": "@jupyter-widgets/base",
            "_view_module_version": "1.2.0",
            "_view_name": "StyleView",
            "description_width": ""
          }
        }
      }
    }
  },
  "cells": [
    {
      "cell_type": "code",
      "execution_count": null,
      "metadata": {
        "id": "nf1Ks0BW5_G7"
      },
      "outputs": [],
      "source": [
        "#Unzipping the model zip files"
      ]
    },
    {
      "cell_type": "code",
      "source": [
        "from timeit import Timer\n",
        "t = Timer(\"filepath = '/content/drive/MyDrive/WordEmbedding/e5-small-v2.zip'; \\\n",
        "         extract_to = '/'; \\\n",
        "         from zipfile import ZipFile; \\\n",
        "         ZipFile(filepath).extractall(path=extract_to)\")\n",
        "t.timeit(1)"
      ],
      "metadata": {
        "colab": {
          "base_uri": "https://localhost:8080/"
        },
        "id": "LjFB9Roz6EB-",
        "outputId": "8e1bee05-91b0-4465-9a02-c4fbaf10ffd4"
      },
      "execution_count": 1,
      "outputs": [
        {
          "output_type": "execute_result",
          "data": {
            "text/plain": [
              "3.511741959999995"
            ]
          },
          "metadata": {},
          "execution_count": 1
        }
      ]
    },
    {
      "cell_type": "code",
      "source": [],
      "metadata": {
        "id": "1EKSdA-O-We6"
      },
      "execution_count": null,
      "outputs": []
    },
    {
      "cell_type": "code",
      "source": [
        "\n",
        "!pip install datasets\n",
        "!pip install sentence_transformers\n",
        "from datasets import load_dataset\n",
        "from sentence_transformers import InputExample\n",
        "from tqdm.auto import tqdm\n",
        "from sentence_transformers import datasets,SentenceTransformer\n"
      ],
      "metadata": {
        "id": "7rTc_llx6EFB"
      },
      "execution_count": 7,
      "outputs": []
    },
    {
      "cell_type": "code",
      "source": [
        "squad_dev = load_dataset('squad_v2', split='validation')"
      ],
      "metadata": {
        "id": "BGiO-VQR8pzz"
      },
      "execution_count": 9,
      "outputs": []
    },
    {
      "cell_type": "code",
      "source": [
        "model = SentenceTransformer('/content/e5-small-v2')"
      ],
      "metadata": {
        "id": "rSQRUqkx-XpL"
      },
      "execution_count": 8,
      "outputs": []
    },
    {
      "cell_type": "code",
      "source": [],
      "metadata": {
        "id": "9Vhza63K9CFX"
      },
      "execution_count": null,
      "outputs": []
    },
    {
      "cell_type": "code",
      "source": [],
      "metadata": {
        "id": "4wv7dSux9CIF"
      },
      "execution_count": null,
      "outputs": []
    },
    {
      "cell_type": "code",
      "source": [
        "#vec DB"
      ],
      "metadata": {
        "id": "aCg65zE46EH4"
      },
      "execution_count": null,
      "outputs": []
    },
    {
      "cell_type": "code",
      "source": [
        "unique_contexts = []\n",
        "unique_ids = []\n",
        "\n",
        "# make list of IDs that represent only first instance of\n",
        "# each context\n",
        "for row in squad_dev:\n",
        "    if row['context'] not in unique_contexts:\n",
        "        unique_contexts.append(row['context'])\n",
        "        unique_ids.append(row['id'])\n",
        "\n",
        "# now filter out any samples that aren't included in unique IDs\n",
        "squad_dev = squad_dev.filter(lambda x: True if x['id'] in unique_ids else False)\n",
        "squad_dev\n"
      ],
      "metadata": {
        "colab": {
          "base_uri": "https://localhost:8080/"
        },
        "id": "DJrgmZxC6EKm",
        "outputId": "bf6e8c2d-680b-4830-92d9-7129d0bd1ccf"
      },
      "execution_count": 10,
      "outputs": [
        {
          "output_type": "execute_result",
          "data": {
            "text/plain": [
              "Dataset({\n",
              "    features: ['id', 'title', 'context', 'question', 'answers'],\n",
              "    num_rows: 1204\n",
              "})"
            ]
          },
          "metadata": {},
          "execution_count": 10
        }
      ]
    },
    {
      "cell_type": "code",
      "source": [
        "# and now encode the unique contexts\n",
        "squad_dev = squad_dev.map(lambda x: {\n",
        "    'encoding': model.encode(x['context']).tolist()\n",
        "}, batched=True, batch_size=4)\n",
        "squad_dev\n"
      ],
      "metadata": {
        "colab": {
          "base_uri": "https://localhost:8080/",
          "height": 117,
          "referenced_widgets": [
            "ea0e58b298094388bbf75f1fc74a5241",
            "4f5b8b26e0c04fa3bfcb2884e1a945a9",
            "9a3954b9121e453593208aa53b76b25c",
            "1c14551464304d9d82bcc66ece76d8da",
            "0f4243ca925b4c2ba2fb0fd80fcdc7f4",
            "122780a4f3f44a3ca41ccb1020ac4400",
            "580b7dcb8b9a4ba788df8a11221d9fc4",
            "c77e9bbe83cb465e9272522a5ea851d8",
            "bf7fdf1144d741e797a1498fcec17fb3",
            "7bdb3e41aa964f82ab01be3e85d78bda",
            "7e462a1fd69e4e2781a2b76020c10579"
          ]
        },
        "id": "3ZJSmgCo6ENn",
        "outputId": "afb65da7-1898-48a3-857d-073bba1b2c87"
      },
      "execution_count": 11,
      "outputs": [
        {
          "output_type": "display_data",
          "data": {
            "text/plain": [
              "Map:   0%|          | 0/1204 [00:00<?, ? examples/s]"
            ],
            "application/vnd.jupyter.widget-view+json": {
              "version_major": 2,
              "version_minor": 0,
              "model_id": "ea0e58b298094388bbf75f1fc74a5241"
            }
          },
          "metadata": {}
        },
        {
          "output_type": "execute_result",
          "data": {
            "text/plain": [
              "Dataset({\n",
              "    features: ['id', 'title', 'context', 'question', 'answers', 'encoding'],\n",
              "    num_rows: 1204\n",
              "})"
            ]
          },
          "metadata": {},
          "execution_count": 11
        }
      ]
    },
    {
      "cell_type": "code",
      "source": [
        "!pip install pinecone-client\n",
        "import pinecone\n",
        "API_KEY = '898a7037-44eb-49bb-94a0-95219be317da'\n",
        "\n",
        "pinecone.init(api_key=API_KEY, environment='gcp-starter')\n",
        "# (find env next to API key in console\n"
      ],
      "metadata": {
        "colab": {
          "base_uri": "https://localhost:8080/"
        },
        "id": "nzEt4Uz_6EQe",
        "outputId": "08e738fc-006c-4360-81ab-832169d4e603"
      },
      "execution_count": 12,
      "outputs": [
        {
          "output_type": "stream",
          "name": "stdout",
          "text": [
            "Collecting pinecone-client\n",
            "  Downloading pinecone_client-2.2.4-py3-none-any.whl (179 kB)\n",
            "\u001b[2K     \u001b[90m━━━━━━━━━━━━━━━━━━━━━━━━━━━━━━━━━━━━━━━━\u001b[0m \u001b[32m179.4/179.4 kB\u001b[0m \u001b[31m2.3 MB/s\u001b[0m eta \u001b[36m0:00:00\u001b[0m\n",
            "\u001b[?25hRequirement already satisfied: requests>=2.19.0 in /usr/local/lib/python3.10/dist-packages (from pinecone-client) (2.31.0)\n",
            "Requirement already satisfied: pyyaml>=5.4 in /usr/local/lib/python3.10/dist-packages (from pinecone-client) (6.0.1)\n",
            "Collecting loguru>=0.5.0 (from pinecone-client)\n",
            "  Downloading loguru-0.7.2-py3-none-any.whl (62 kB)\n",
            "\u001b[2K     \u001b[90m━━━━━━━━━━━━━━━━━━━━━━━━━━━━━━━━━━━━━━━━\u001b[0m \u001b[32m62.5/62.5 kB\u001b[0m \u001b[31m8.0 MB/s\u001b[0m eta \u001b[36m0:00:00\u001b[0m\n",
            "\u001b[?25hRequirement already satisfied: typing-extensions>=3.7.4 in /usr/local/lib/python3.10/dist-packages (from pinecone-client) (4.5.0)\n",
            "Collecting dnspython>=2.0.0 (from pinecone-client)\n",
            "  Downloading dnspython-2.4.2-py3-none-any.whl (300 kB)\n",
            "\u001b[2K     \u001b[90m━━━━━━━━━━━━━━━━━━━━━━━━━━━━━━━━━━━━━━━━\u001b[0m \u001b[32m300.4/300.4 kB\u001b[0m \u001b[31m28.4 MB/s\u001b[0m eta \u001b[36m0:00:00\u001b[0m\n",
            "\u001b[?25hRequirement already satisfied: python-dateutil>=2.5.3 in /usr/local/lib/python3.10/dist-packages (from pinecone-client) (2.8.2)\n",
            "Requirement already satisfied: urllib3>=1.21.1 in /usr/local/lib/python3.10/dist-packages (from pinecone-client) (2.0.7)\n",
            "Requirement already satisfied: tqdm>=4.64.1 in /usr/local/lib/python3.10/dist-packages (from pinecone-client) (4.66.1)\n",
            "Requirement already satisfied: numpy>=1.22.0 in /usr/local/lib/python3.10/dist-packages (from pinecone-client) (1.23.5)\n",
            "Requirement already satisfied: six>=1.5 in /usr/local/lib/python3.10/dist-packages (from python-dateutil>=2.5.3->pinecone-client) (1.16.0)\n",
            "Requirement already satisfied: charset-normalizer<4,>=2 in /usr/local/lib/python3.10/dist-packages (from requests>=2.19.0->pinecone-client) (3.3.1)\n",
            "Requirement already satisfied: idna<4,>=2.5 in /usr/local/lib/python3.10/dist-packages (from requests>=2.19.0->pinecone-client) (3.4)\n",
            "Requirement already satisfied: certifi>=2017.4.17 in /usr/local/lib/python3.10/dist-packages (from requests>=2.19.0->pinecone-client) (2023.7.22)\n",
            "Installing collected packages: loguru, dnspython, pinecone-client\n",
            "Successfully installed dnspython-2.4.2 loguru-0.7.2 pinecone-client-2.2.4\n"
          ]
        }
      ]
    },
    {
      "cell_type": "code",
      "source": [
        "# check if index already exists, if not we create it\n",
        "if 'squad-index' not in pinecone.list_indexes():\n",
        "    pinecone.create_index(\n",
        "        name='squad-index', dimension=model.get_sentence_embedding_dimension(), metric='cosine'\n",
        "    )\n"
      ],
      "metadata": {
        "id": "pAn8NEZE6EV9"
      },
      "execution_count": 13,
      "outputs": []
    },
    {
      "cell_type": "code",
      "source": [
        "# we use this to get required index dims\n",
        "model.get_sentence_embedding_dimension()\n"
      ],
      "metadata": {
        "colab": {
          "base_uri": "https://localhost:8080/"
        },
        "id": "spnkt5r46EYj",
        "outputId": "948e78f4-f2f0-4263-a701-ffda831d7beb"
      },
      "execution_count": 14,
      "outputs": [
        {
          "output_type": "execute_result",
          "data": {
            "text/plain": [
              "384"
            ]
          },
          "metadata": {},
          "execution_count": 14
        }
      ]
    },
    {
      "cell_type": "code",
      "source": [
        "# initialize connection to the new index\n",
        "index = pinecone.Index('squad-index')\n"
      ],
      "metadata": {
        "id": "aN1thQiG6Ebb"
      },
      "execution_count": 15,
      "outputs": []
    },
    {
      "cell_type": "code",
      "source": [
        "from tqdm.auto import tqdm  # progress bar\n",
        "\n",
        "upserts = [(v['id'], v['encoding'], {'text': v['context']}) for v in squad_dev]\n",
        "# now upsert in chunks\n",
        "for i in tqdm(range(0, len(upserts), 50)):\n",
        "    i_end = i + 20\n",
        "    if i_end > len(upserts): i_end = len(upserts)\n",
        "    index.upsert(vectors=upserts[i:i_end])\n"
      ],
      "metadata": {
        "colab": {
          "base_uri": "https://localhost:8080/",
          "height": 49,
          "referenced_widgets": [
            "afcb7a3b99054c338f34a47045a082c5",
            "5d2319c02d5a4e9f80112708c2e91edf",
            "d56c71b57f244deba70b7e0226381951",
            "7118b1375f77402bafd3cda19f89bde0",
            "9d3a8eac8c184976894b05b256337f2e",
            "7ed137962c0042ecb02320109ff46ed8",
            "cdc9adaeb8e14b93b323a31e2fed1415",
            "1947a4196695419cb30a8fba899199b7",
            "6c60618c802e4f40bd84761bb8c99749",
            "9ea2db079bf14d21ba79eaad8a9a19fc",
            "93f88476f10f429bbaa823e405866e7e"
          ]
        },
        "id": "XVMrOpw26Eea",
        "outputId": "7cfee195-4f3c-4fab-d18d-21b32a78ddd0"
      },
      "execution_count": 16,
      "outputs": [
        {
          "output_type": "display_data",
          "data": {
            "text/plain": [
              "  0%|          | 0/25 [00:00<?, ?it/s]"
            ],
            "application/vnd.jupyter.widget-view+json": {
              "version_major": 2,
              "version_minor": 0,
              "model_id": "afcb7a3b99054c338f34a47045a082c5"
            }
          },
          "metadata": {}
        }
      ]
    },
    {
      "cell_type": "code",
      "source": [
        "# device = torch.device(\"cuda:0\") if torch.cuda.is_available() else torch.device(\"cpu\")"
      ],
      "metadata": {
        "id": "Vn-AMlLS6EhJ"
      },
      "execution_count": 18,
      "outputs": []
    },
    {
      "cell_type": "code",
      "source": [],
      "metadata": {
        "id": "Yv_uFPB96EkB"
      },
      "execution_count": null,
      "outputs": []
    },
    {
      "cell_type": "code",
      "source": [
        "#Query from vec DB"
      ],
      "metadata": {
        "id": "ztLONVzJ6EnI"
      },
      "execution_count": null,
      "outputs": []
    },
    {
      "cell_type": "code",
      "source": [
        "query = \"When were the Normans in Normandy?\"\n",
        "xq = model.encode([query]).tolist()\n"
      ],
      "metadata": {
        "id": "zguyMDSp6Epk"
      },
      "execution_count": 19,
      "outputs": []
    },
    {
      "cell_type": "code",
      "source": [
        "xc = index.query(xq, top_k=2, include_metadata=True)\n",
        "xc\n"
      ],
      "metadata": {
        "id": "xVULuT2g6EsL"
      },
      "execution_count": null,
      "outputs": []
    },
    {
      "cell_type": "code",
      "source": [
        "xq = model.encode([\n",
        "    \"How many outputs are expected for each input in a function problem?\"\n",
        "]).tolist()\n",
        "index.query(xq, top_k=5, include_metadata=True)\n"
      ],
      "metadata": {
        "id": "Guh7_tYO6Eub"
      },
      "execution_count": null,
      "outputs": []
    },
    {
      "cell_type": "code",
      "source": [
        "xq = model.encode([\n",
        "    \"Who used Islamic, Lombard, etc construction techniques in the Mediterranean?\"\n",
        "]).tolist()\n",
        "index.query(xq, top_k=5, include_metadata=True)\n"
      ],
      "metadata": {
        "id": "fNtRaTA16t0f"
      },
      "execution_count": null,
      "outputs": []
    },
    {
      "cell_type": "code",
      "source": [
        "xq = model.encode([\n",
        "    \"what is data science?\"\n",
        "]).tolist()\n",
        "index.query(xq, top_k=5, include_metadata=True)\n"
      ],
      "metadata": {
        "colab": {
          "base_uri": "https://localhost:8080/"
        },
        "id": "YSiGpYJT6t3P",
        "outputId": "b8cfb447-a6cc-4100-f5c4-25adf8f5f1ae"
      },
      "execution_count": 23,
      "outputs": [
        {
          "output_type": "execute_result",
          "data": {
            "text/plain": [
              "{'matches': [{'id': '57267b3c5951b619008f7423',\n",
              "              'metadata': {'text': 'Petrologists can also use fluid inclusion '\n",
              "                                   'data and perform high temperature and '\n",
              "                                   'pressure physical experiments to '\n",
              "                                   'understand the temperatures and pressures '\n",
              "                                   'at which different mineral phases appear, '\n",
              "                                   'and how they change through igneous and '\n",
              "                                   'metamorphic processes. This research can '\n",
              "                                   'be extrapolated to the field to understand '\n",
              "                                   'metamorphic processes and the conditions '\n",
              "                                   'of crystallization of igneous rocks. This '\n",
              "                                   'work can also help to explain processes '\n",
              "                                   'that occur within the Earth, such as '\n",
              "                                   'subduction and magma chamber evolution.'},\n",
              "              'score': 0.320096076,\n",
              "              'values': []},\n",
              "             {'id': '57268066708984140094c821',\n",
              "              'metadata': {'text': 'In the laboratory, stratigraphers analyze '\n",
              "                                   'samples of stratigraphic sections that can '\n",
              "                                   'be returned from the field, such as those '\n",
              "                                   'from drill cores. Stratigraphers also '\n",
              "                                   'analyze data from geophysical surveys that '\n",
              "                                   'show the locations of stratigraphic units '\n",
              "                                   'in the subsurface. Geophysical data and '\n",
              "                                   'well logs can be combined to produce a '\n",
              "                                   'better view of the subsurface, and '\n",
              "                                   'stratigraphers often use computer programs '\n",
              "                                   'to do this in three dimensions. '\n",
              "                                   'Stratigraphers can then use these data to '\n",
              "                                   'reconstruct ancient processes occurring on '\n",
              "                                   'the surface of the Earth, interpret past '\n",
              "                                   'environments, and locate areas for water, '\n",
              "                                   'coal, and hydrocarbon extraction.'},\n",
              "              'score': 0.317401439,\n",
              "              'values': []},\n",
              "             {'id': '56e1b754cd28a01900c67abc',\n",
              "              'metadata': {'text': 'Analogous definitions can be made for '\n",
              "                                   'space requirements. Although time and '\n",
              "                                   'space are the most well-known complexity '\n",
              "                                   'resources, any complexity measure can be '\n",
              "                                   'viewed as a computational resource. '\n",
              "                                   'Complexity measures are very generally '\n",
              "                                   'defined by the Blum complexity axioms. '\n",
              "                                   'Other complexity measures used in '\n",
              "                                   'complexity theory include communication '\n",
              "                                   'complexity, circuit complexity, and '\n",
              "                                   'decision tree complexity.'},\n",
              "              'score': 0.306622237,\n",
              "              'values': []},\n",
              "             {'id': '5727e21e4b864d1900163f34',\n",
              "              'metadata': {'text': \"Harvard's faculty includes scholars such \"\n",
              "                                   'as biologist E. O. Wilson, cognitive '\n",
              "                                   'scientist Steven Pinker, physicists Lisa '\n",
              "                                   'Randall and Roy Glauber, chemists Elias '\n",
              "                                   'Corey, Dudley R. Herschbach and George M. '\n",
              "                                   'Whitesides, computer scientists Michael O. '\n",
              "                                   'Rabin and Leslie Valiant, Shakespeare '\n",
              "                                   'scholar Stephen Greenblatt, writer Louis '\n",
              "                                   'Menand, critic Helen Vendler, historians '\n",
              "                                   'Henry Louis Gates, Jr. and Niall Ferguson, '\n",
              "                                   'economists Amartya Sen, N. Gregory Mankiw, '\n",
              "                                   'Robert Barro, Stephen A. Marglin, Don M. '\n",
              "                                   'Wilson III and Martin Feldstein, political '\n",
              "                                   'philosophers Harvey Mansfield, Baroness '\n",
              "                                   'Shirley Williams and Michael Sandel, '\n",
              "                                   'Fields Medalist mathematician Shing-Tung '\n",
              "                                   'Yau, political scientists Robert Putnam, '\n",
              "                                   'Joseph Nye, and Stanley Hoffmann, '\n",
              "                                   'scholar/composers Robert Levin and Bernard '\n",
              "                                   'Rands, astrophysicist Alyssa A. Goodman, '\n",
              "                                   'and legal scholars Alan Dershowitz and '\n",
              "                                   'Lawrence Lessig.'},\n",
              "              'score': 0.285643,\n",
              "              'values': []},\n",
              "             {'id': '56e1bc3ae3433e1400423104',\n",
              "              'metadata': {'text': 'To classify the computation time (or '\n",
              "                                   'similar resources, such as space '\n",
              "                                   'consumption), one is interested in proving '\n",
              "                                   'upper and lower bounds on the minimum '\n",
              "                                   'amount of time required by the most '\n",
              "                                   'efficient algorithm solving a given '\n",
              "                                   'problem. The complexity of an algorithm is '\n",
              "                                   'usually taken to be its worst-case '\n",
              "                                   'complexity, unless specified otherwise. '\n",
              "                                   'Analyzing a particular algorithm falls '\n",
              "                                   'under the field of analysis of algorithms. '\n",
              "                                   'To show an upper bound T(n) on the time '\n",
              "                                   'complexity of a problem, one needs to show '\n",
              "                                   'only that there is a particular algorithm '\n",
              "                                   'with running time at most T(n). However, '\n",
              "                                   'proving lower bounds is much more '\n",
              "                                   'difficult, since lower bounds make a '\n",
              "                                   'statement about all possible algorithms '\n",
              "                                   'that solve a given problem. The phrase '\n",
              "                                   '\"all possible algorithms\" includes not '\n",
              "                                   'just the algorithms known today, but any '\n",
              "                                   'algorithm that might be discovered in the '\n",
              "                                   'future. To show a lower bound of T(n) for '\n",
              "                                   'a problem requires showing that no '\n",
              "                                   'algorithm can have time complexity lower '\n",
              "                                   'than T(n).'},\n",
              "              'score': 0.277034193,\n",
              "              'values': []}],\n",
              " 'namespace': ''}"
            ]
          },
          "metadata": {},
          "execution_count": 23
        }
      ]
    },
    {
      "cell_type": "code",
      "source": [],
      "metadata": {
        "id": "wx_i7kRu6t6J"
      },
      "execution_count": null,
      "outputs": []
    },
    {
      "cell_type": "code",
      "source": [],
      "metadata": {
        "id": "yWbI0Ueg6t8v"
      },
      "execution_count": null,
      "outputs": []
    },
    {
      "cell_type": "code",
      "source": [],
      "metadata": {
        "id": "e508Tk3t6t_Y"
      },
      "execution_count": null,
      "outputs": []
    },
    {
      "cell_type": "code",
      "source": [],
      "metadata": {
        "id": "3IUpK0fM6uB7"
      },
      "execution_count": null,
      "outputs": []
    },
    {
      "cell_type": "code",
      "source": [],
      "metadata": {
        "id": "Yo3f-8BB6uEQ"
      },
      "execution_count": null,
      "outputs": []
    },
    {
      "cell_type": "code",
      "source": [],
      "metadata": {
        "id": "VY5TzYSE6uG2"
      },
      "execution_count": null,
      "outputs": []
    }
  ]
}